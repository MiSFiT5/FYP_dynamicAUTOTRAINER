{
 "cells": [
  {
   "cell_type": "markdown",
   "id": "84917c2e",
   "metadata": {},
   "source": [
    "packages"
   ]
  },
  {
   "cell_type": "code",
   "execution_count": 6,
   "id": "7e158358",
   "metadata": {},
   "outputs": [],
   "source": [
    "import pandas as pd\n",
    "import numpy as np"
   ]
  },
  {
   "cell_type": "code",
   "execution_count": 7,
   "id": "3bb4a0b7",
   "metadata": {},
   "outputs": [],
   "source": [
    "# unstable_threshold=0.05\n",
    "# unstable_rate=0.25"
   ]
  },
  {
   "cell_type": "code",
   "execution_count": 8,
   "id": "c2adea4d",
   "metadata": {},
   "outputs": [],
   "source": [
    "def ol_judge(acc,threshold,rate):\n",
    "    \n",
    "    maximum=[]\n",
    "    minimum=[]\n",
    "    count=0\n",
    "    \n",
    "    for i in range(len(acc)):\n",
    "        if i==0 or i ==len(acc)-1:\n",
    "            continue\n",
    "        if acc[i]-acc[i-1]>=0 and acc[i]-acc[i+1]>=0:\n",
    "            maximum.append(acc[i])\n",
    "        if acc[i]-acc[i-1]<=0 and acc[i]-acc[i+1]<=0:\n",
    "            minimum.append(acc[i])\n",
    "    for i in range(min(len(maximum),len(minimum))):\n",
    "        if maximum[i]-minimum[i]>=threshold:\n",
    "            count+=1\n",
    "    if count>=rate*len(acc):\n",
    "        return 1,i\n",
    "    else:\n",
    "        return 0"
   ]
  },
  {
   "cell_type": "code",
   "execution_count": 12,
   "id": "d3242d73",
   "metadata": {},
   "outputs": [
    {
     "name": "stdout",
     "output_type": "stream",
     "text": [
      "0     0.945617\n",
      "1     0.980783\n",
      "2     0.985400\n",
      "3     0.988150\n",
      "4     0.989533\n",
      "5     0.990933\n",
      "6     0.991800\n",
      "7     0.991983\n",
      "8     0.992700\n",
      "9     0.993517\n",
      "10    0.993367\n",
      "11    0.994183\n",
      "12    0.994217\n",
      "13    0.994183\n",
      "14    0.994567\n",
      "15    0.994500\n",
      "16    0.994567\n",
      "17    0.994783\n",
      "18    0.994950\n",
      "19    0.995183\n",
      "20    0.995417\n",
      "21    0.995667\n",
      "22    0.995667\n",
      "23    0.995583\n",
      "24    0.995583\n",
      "25    0.996117\n",
      "26    0.995767\n",
      "27    0.996133\n",
      "28    0.996217\n",
      "29    0.996067\n",
      "30    0.996433\n",
      "31    0.995967\n",
      "32    0.996183\n",
      "33    0.996350\n",
      "34    0.996683\n",
      "35    0.996333\n",
      "36    0.996433\n",
      "37    0.996633\n",
      "38    0.996183\n",
      "39    0.996467\n",
      "40    0.996400\n",
      "41    0.996867\n",
      "42    0.996583\n",
      "43    0.996700\n",
      "44    0.996900\n",
      "45    0.996483\n",
      "46    0.996767\n",
      "47    0.996550\n",
      "48    0.996933\n",
      "49    0.996350\n",
      "Name: accuracy, dtype: float64\n",
      "0\n",
      "100\n",
      "[]\n"
     ]
    }
   ],
   "source": [
    "# unstable_threshold=0.005\n",
    "# unstable_rate=0.25\n",
    "trueCounter = 0\n",
    "falseCounter = 0\n",
    "addre = []\n",
    "pos = []\n",
    "for i in range(100):\n",
    "    addre.append('case_fromRawData_later=_'+ str(i) + \".csv\")\n",
    "    tableTest = pd.read_csv(addre[i])\n",
    "    loss = tableTest['loss']\n",
    "    acc = tableTest['accuracy']\n",
    "    val_loss = tableTest['val_loss']\n",
    "    val_acc = tableTest['val_accuracy']\n",
    "    res = ol_judge(val_acc, 0.005, 0.20)\n",
    "    if res != 0:\n",
    "        trueCounter = trueCounter + 1\n",
    "        pos.append(res[1])\n",
    "    else:\n",
    "        falseCounter = falseCounter + 1\n",
    "    \n",
    "print(acc)\n",
    "print(trueCounter)\n",
    "print(falseCounter)\n",
    "print(pos)"
   ]
  },
  {
   "cell_type": "markdown",
   "id": "37d3d249",
   "metadata": {},
   "source": [
    "the results from gpu (only several cases)"
   ]
  },
  {
   "cell_type": "code",
   "execution_count": 10,
   "id": "31796945",
   "metadata": {},
   "outputs": [
    {
     "name": "stdout",
     "output_type": "stream",
     "text": [
      "0\n",
      "0\n"
     ]
    }
   ],
   "source": [
    "counter1 = 0\n",
    "counter2 = 0\n",
    "counter3 = 0\n",
    "counter4 = 0\n",
    "for i in pos:\n",
    "    if (i-1) <= 10:\n",
    "        counter1 = counter1 + 1\n",
    "    elif (i-1)>10 and (i-1) <= 20:\n",
    "        counter2 = counter2 + 1\n",
    "    else:\n",
    "        pass\n",
    "    \n",
    "print(counter1)\n",
    "print(counter2)\n",
    "        \n"
   ]
  },
  {
   "cell_type": "code",
   "execution_count": null,
   "id": "058ccd94",
   "metadata": {},
   "outputs": [],
   "source": []
  },
  {
   "cell_type": "code",
   "execution_count": null,
   "id": "86e7a427",
   "metadata": {},
   "outputs": [],
   "source": []
  }
 ],
 "metadata": {
  "kernelspec": {
   "display_name": "Python 3 (ipykernel)",
   "language": "python",
   "name": "python3"
  },
  "language_info": {
   "codemirror_mode": {
    "name": "ipython",
    "version": 3
   },
   "file_extension": ".py",
   "mimetype": "text/x-python",
   "name": "python",
   "nbconvert_exporter": "python",
   "pygments_lexer": "ipython3",
   "version": "3.9.12"
  }
 },
 "nbformat": 4,
 "nbformat_minor": 5
}
