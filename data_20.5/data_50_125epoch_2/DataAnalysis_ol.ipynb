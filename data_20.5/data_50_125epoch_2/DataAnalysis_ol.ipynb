{
 "cells": [
  {
   "cell_type": "markdown",
   "id": "84917c2e",
   "metadata": {},
   "source": [
    "packages"
   ]
  },
  {
   "cell_type": "code",
   "execution_count": 1,
   "id": "7e158358",
   "metadata": {},
   "outputs": [],
   "source": [
    "import pandas as pd\n",
    "import numpy as np"
   ]
  },
  {
   "cell_type": "code",
   "execution_count": 2,
   "id": "3bb4a0b7",
   "metadata": {},
   "outputs": [],
   "source": [
    "# unstable_threshold=0.05\n",
    "# unstable_rate=0.25"
   ]
  },
  {
   "cell_type": "code",
   "execution_count": 3,
   "id": "c2adea4d",
   "metadata": {},
   "outputs": [],
   "source": [
    "def ol_judge(acc,threshold,rate):\n",
    "    \n",
    "    maximum=[]\n",
    "    minimum=[]\n",
    "    count=0\n",
    "    \n",
    "    for i in range(len(acc)):\n",
    "        if i==0 or i ==len(acc)-1:\n",
    "            continue\n",
    "        if acc[i]-acc[i-1]>=0 and acc[i]-acc[i+1]>=0:\n",
    "            maximum.append(acc[i])\n",
    "        if acc[i]-acc[i-1]<=0 and acc[i]-acc[i+1]<=0:\n",
    "            minimum.append(acc[i])\n",
    "    for i in range(min(len(maximum),len(minimum))):\n",
    "        if maximum[i]-minimum[i]>=threshold:\n",
    "            count+=1\n",
    "    if count>=rate*len(acc):\n",
    "        return 1,i\n",
    "    else:\n",
    "        return 0"
   ]
  },
  {
   "cell_type": "code",
   "execution_count": 4,
   "id": "d3242d73",
   "metadata": {},
   "outputs": [
    {
     "name": "stdout",
     "output_type": "stream",
     "text": [
      "24\n",
      "26\n",
      "[35, 37, 35, 32, 53, 41, 35, 36, 35, 39, 40, 34, 34, 37, 34, 37, 38, 39, 38, 41, 43, 40, 34, 47]\n"
     ]
    }
   ],
   "source": [
    "# unstable_threshold=0.005\n",
    "# unstable_rate=0.25\n",
    "trueCounter = 0\n",
    "falseCounter = 0\n",
    "addre = []\n",
    "pos = []\n",
    "for i in range(50):\n",
    "    addre.append('case_1_later=20_'+ str(i) + \".csv\")\n",
    "    tableTest = pd.read_csv(addre[i])\n",
    "    loss = tableTest['loss']\n",
    "    acc = tableTest['accuracy']\n",
    "    val_loss = tableTest['val_loss']\n",
    "    val_acc = tableTest['val_accuracy']\n",
    "    res = ol_judge(val_acc, 0.02, 0.20)\n",
    "    if res != 0:\n",
    "        trueCounter = trueCounter + 1\n",
    "        pos.append(res[1])\n",
    "    else:\n",
    "        falseCounter = falseCounter + 1\n",
    "    \n",
    "print(trueCounter)\n",
    "print(falseCounter)\n",
    "print(pos)"
   ]
  },
  {
   "cell_type": "markdown",
   "id": "37d3d249",
   "metadata": {},
   "source": [
    "the results from gpu (only several cases)"
   ]
  },
  {
   "cell_type": "code",
   "execution_count": 6,
   "id": "31796945",
   "metadata": {},
   "outputs": [
    {
     "name": "stdout",
     "output_type": "stream",
     "text": [
      "0\n",
      "0\n",
      "0\n",
      "30\n",
      "4\n",
      "1\n"
     ]
    }
   ],
   "source": [
    "counter1 = 0\n",
    "counter2 = 0\n",
    "counter3 = 0\n",
    "counter4 = 0\n",
    "counter5 = 0\n",
    "counter6 = 0\n",
    "for i in pos:\n",
    "    if (i-1) <= 10:\n",
    "        counter1 = counter1 + 1\n",
    "    elif (i-1)>10 and (i-1) <= 20:\n",
    "        counter2 = counter2 + 1\n",
    "    elif (i-1)>20 and (i-1) <= 30:\n",
    "        counter3 = counter3 + 1\n",
    "    elif (i-1)>30 and (i-1) <= 40:\n",
    "        counter4 = counter4 + 1\n",
    "    elif (i-1)>40 and (i-1) <= 50:\n",
    "        counter5 = counter5 + 1\n",
    "    else:\n",
    "        counter6 = counter6 + 1\n",
    "    \n",
    "print(counter1)\n",
    "print(counter2)\n",
    "print(counter3)\n",
    "print(counter4)\n",
    "print(counter5)\n",
    "print(counter6)\n",
    "        \n"
   ]
  },
  {
   "cell_type": "code",
   "execution_count": 40,
   "id": "058ccd94",
   "metadata": {},
   "outputs": [
    {
     "data": {
      "text/plain": [
       "['case_1_later=20_0.csv', 'case_1_later=20_1.csv', 'case_1_later=20_2.csv']"
      ]
     },
     "execution_count": 40,
     "metadata": {},
     "output_type": "execute_result"
    }
   ],
   "source": []
  },
  {
   "cell_type": "code",
   "execution_count": null,
   "id": "86e7a427",
   "metadata": {},
   "outputs": [],
   "source": []
  }
 ],
 "metadata": {
  "kernelspec": {
   "display_name": "Python 3 (ipykernel)",
   "language": "python",
   "name": "python3"
  },
  "language_info": {
   "codemirror_mode": {
    "name": "ipython",
    "version": 3
   },
   "file_extension": ".py",
   "mimetype": "text/x-python",
   "name": "python",
   "nbconvert_exporter": "python",
   "pygments_lexer": "ipython3",
   "version": "3.9.12"
  }
 },
 "nbformat": 4,
 "nbformat_minor": 5
}
